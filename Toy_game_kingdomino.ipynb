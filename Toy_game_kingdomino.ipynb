{
 "cells": [
  {
   "cell_type": "markdown",
   "id": "336154d7",
   "metadata": {},
   "source": [
    "# Kingdomino Toy Game\n",
    "\n",
    "The goal of this project is to master the gymnasium library to train an agent to play the game Kingdomino.\n",
    "(Insert a presentation of the game Kingdomino)\n",
    "Since Kingdomino is a complexe game as shown in (insert the paper about the NP completness of Kingdomino) we will start by implementing simplified version of the game (Toy game) to train agent in incrementaly complexe situation.\n",
    "The roadmap for the toy game will be as follow :\n",
    "Toy Game 1: Placing blank domino on a board\n",
    "Toy Game 2: Placing colored domino on a board\n",
    "Toy Game 3: Placing colored and crowned domino on a board to get the best score\n",
    "Toy Game 4: Choosing domino from a set of dominos then placing them in order to get the best score\n",
    "Toy Game 5: Playing domino against an oponent without the choice step\n",
    "Toy Game 6: Playing domino against an opponnent with the choice step\n",
    "Toy Game 7: Integrating Kingdomino special rule (Harmony, Middle ground, ...)"
   ]
  },
  {
   "cell_type": "markdown",
   "id": "60b77a1a",
   "metadata": {},
   "source": [
    "# Toy Game 1: Placing Blank Dominos\n",
    "\n",
    "This first toy game consider an environement where the agent receive a blank domino of size 2x1 and had to place it on a 5x5 grid. The goal is to perfectly fill the grid in less step as possible. The only rule is that domino should not overlap and domino should touch themselves to be place except for the first one."
   ]
  },
  {
   "cell_type": "code",
   "execution_count": 1,
   "id": "b9884c1d",
   "metadata": {},
   "outputs": [],
   "source": [
    "import gymnasium as gym\n",
    "from gymnasium import spaces\n",
    "\n",
    "class BasicTilePlacementEnv(gym.Env):\n",
    "    def __init__(self):\n",
    "        super(BasicTilePlacementEnv, self).__init__()\n",
    "        self.board_size = 5  # Define the board size\n",
    "        # Define the action space (x, y coordinates for tile placement)\n",
    "        self.action_space = spaces.Tuple((spaces.Discrete(self.board_size),\n",
    "                                   spaces.Discrete(self.board_size),\n",
    "                                   spaces.Discrete(4)))  # 4 for up, down, left, right\n",
    "\n",
    "        # Define the observation space (the state of the board)\n",
    "        self.observation_space = spaces.Box(low=0, high=1,\n",
    "                                            shape=(self.board_size, self.board_size),\n",
    "                                            dtype=int)\n",
    "        self.state = None  # To keep track of the board state\n",
    "        self.is_first_move = True  # Initialize the is_first_move attribute here\n",
    "        \n",
    "    def is_valid_placement(self, start, direction):\n",
    "        # Calculate the second tile's position based on direction\n",
    "        if direction == 'up':\n",
    "            end = (start[0] - 1, start[1])\n",
    "        elif direction == 'down':\n",
    "            end = (start[0] + 1, start[1])\n",
    "        elif direction == 'left':\n",
    "            end = (start[0], start[1] - 1)\n",
    "        elif direction == 'right':\n",
    "            end = (start[0], start[1] + 1)\n",
    "        else:\n",
    "            return False  # Invalid direction\n",
    "\n",
    "        # Check for out-of-bounds or overlapping tiles\n",
    "        if not (0 <= end[0] < self.board_size and 0 <= end[1] < self.board_size):\n",
    "            return False\n",
    "        if self.state[start[0]][start[1]] != 0 or self.state[end[0]][end[1]] != 0:\n",
    "            return False\n",
    "\n",
    "        # Check if the new domino touches at least one previously placed domino\n",
    "        # This check is skipped for the first move\n",
    "        if not self.is_first_move:\n",
    "            touching = False\n",
    "            for dx, dy in [(-1, 0), (1, 0), (0, -1), (0, 1)]:  # Check adjacent cells\n",
    "                adj_cells = [(start[0] + dx, start[1] + dy), (end[0] + dx, end[1] + dy)]\n",
    "                for x, y in adj_cells:\n",
    "                    if 0 <= x < self.board_size and 0 <= y < self.board_size:\n",
    "                        if self.state[x][y] == 1:  # Adjust this check based on your state representation\n",
    "                            touching = True\n",
    "            if not touching:\n",
    "                return False\n",
    "        else:\n",
    "            self.is_first_move = False\n",
    "\n",
    "        return True  # The placement is valid\n",
    "\n",
    "    def check_game_over(self):\n",
    "    # Vérifie s'il reste des cases vides\n",
    "    #for row in self.state:\n",
    "        #if 0 in row:\n",
    "            #return False\n",
    "\n",
    "        # Vérifie s'il existe encore des mouvements valides\n",
    "        for i in range(len(self.state)):\n",
    "            for j in range(len(self.state[0])):\n",
    "                if self.state[i][j] == 0:\n",
    "                    # Vérifie les cases adjacentes (haut, bas, gauche, droite)\n",
    "                    if (i > 0 and self.state[i - 1][j] == 0) or \\\n",
    "                       (i < len(self.state) - 1 and self.state[i + 1][j] == 0) or \\\n",
    "                       (j > 0 and self.state[i][j - 1] == 0) or \\\n",
    "                       (j < len(self.state[0]) - 1 and self.state[i][j + 1] == 0):\n",
    "                        return False\n",
    "\n",
    "        # Si aucune case vide n'est trouvée et aucun mouvement valide n'est possible, le jeu est terminé\n",
    "        return True\n",
    "\n",
    "        \n",
    "    def step(self, action):\n",
    "        # Decode the action into position (x, y) and orientation (0: up, 1: down, 2: left, 3: right)\n",
    "        x, y, orientation = action\n",
    "        directions = ['up', 'down', 'left', 'right']\n",
    "        direction = directions[orientation]\n",
    "\n",
    "        # Check if the placement is valid\n",
    "        if not self.is_valid_placement((x, y), direction):\n",
    "            # Penalize invalid moves to discourage them\n",
    "            return self.state, -1, False, {\"reason\": \"Invalid placement\"}\n",
    "\n",
    "        # Calculate the second tile's position based on the direction of the first tile\n",
    "        if direction == 'up':\n",
    "            second_tile = (x - 1, y)\n",
    "        elif direction == 'down':\n",
    "            second_tile = (x + 1, y)\n",
    "        elif direction == 'left':\n",
    "            second_tile = (x, y - 1)\n",
    "        elif direction == 'right':\n",
    "            second_tile = (x, y + 1)\n",
    "\n",
    "        # Place the domino on the board\n",
    "        self.state[x][y] = 1\n",
    "        self.state[second_tile[0]][second_tile[1]] = 1\n",
    "\n",
    "        # Check if the game is done (e.g., no more valid moves, or board is filled)\n",
    "        done = self.check_game_over()\n",
    "\n",
    "        # Define the reward mechanism; simple example: +1 for each successful move\n",
    "        reward = 1\n",
    "\n",
    "        # Optionally, provide additional info about the step\n",
    "        info = {}\n",
    "\n",
    "        return self.state, reward, done, info\n",
    "\n",
    "\n",
    "\n",
    "    def reset(self):\n",
    "        # Reset the environment to an initial state\n",
    "        self.state = [[0 for _ in range(self.board_size)] for _ in range(self.board_size)]\n",
    "        self.is_first_move = True  # Reset is_first_move to True at the start of each episode\n",
    "        return self.state  # Return the initial state\n",
    "\n",
    "    def render(self, mode='human'):\n",
    "        for row in self.state:\n",
    "            print(' '.join(['X' if cell == 1 else '.' for cell in row]))\n",
    "        print()  # Add a newline for better separation between steps\n",
    "\n"
   ]
  },
  {
   "cell_type": "code",
   "execution_count": 2,
   "id": "5d395b0e",
   "metadata": {},
   "outputs": [
    {
     "name": "stdout",
     "output_type": "stream",
     "text": [
      "Board filled, resetting.\n"
     ]
    }
   ],
   "source": [
    "env = BasicTilePlacementEnv()\n",
    "env.reset()\n",
    "done = False\n",
    "number_of_step = 0\n",
    "while not done:  # Attempt to place some tiles\n",
    "    action = env.action_space.sample()  # Randomly sample an action\n",
    "    state, reward, done, info = env.step(action)\n",
    "    number_of_step = number_of_step + 1\n",
    "    if done:\n",
    "        print(\"Board filled, resetting.\")\n",
    "        env.reset()"
   ]
  },
  {
   "cell_type": "code",
   "execution_count": 3,
   "id": "5c7e21e2",
   "metadata": {},
   "outputs": [
    {
     "name": "stdout",
     "output_type": "stream",
     "text": [
      ". . . . .\n",
      ". X X . .\n",
      ". . . . .\n",
      ". . . . .\n",
      ". . . . .\n",
      "\n",
      "[[0, 0, 0, 0, 0], [0, 1, 1, 0, 0], [0, 0, 0, 0, 0], [0, 0, 0, 0, 0], [0, 0, 0, 0, 0]]\n",
      "False\n",
      ". . . . .\n",
      ". X X . .\n",
      ". . . . .\n",
      ". . . . .\n",
      ". . . . .\n",
      "\n",
      "[[0, 0, 0, 0, 0], [0, 1, 1, 0, 0], [0, 0, 0, 0, 0], [0, 0, 0, 0, 0], [0, 0, 0, 0, 0]]\n",
      "False\n",
      ". . . . .\n",
      ". X X . .\n",
      ". . . . .\n",
      ". . . . .\n",
      ". . . . .\n",
      "\n",
      "[[0, 0, 0, 0, 0], [0, 1, 1, 0, 0], [0, 0, 0, 0, 0], [0, 0, 0, 0, 0], [0, 0, 0, 0, 0]]\n",
      "False\n",
      ". . . . .\n",
      ". X X . .\n",
      ". . . . .\n",
      ". . . . .\n",
      ". . . . .\n",
      "\n",
      "[[0, 0, 0, 0, 0], [0, 1, 1, 0, 0], [0, 0, 0, 0, 0], [0, 0, 0, 0, 0], [0, 0, 0, 0, 0]]\n",
      "False\n",
      ". . . . .\n",
      ". X X . .\n",
      ". . X X .\n",
      ". . . . .\n",
      ". . . . .\n",
      "\n",
      "[[0, 0, 0, 0, 0], [0, 1, 1, 0, 0], [0, 0, 1, 1, 0], [0, 0, 0, 0, 0], [0, 0, 0, 0, 0]]\n",
      "False\n"
     ]
    }
   ],
   "source": [
    "# Create an instance of the environment\n",
    "env = BasicTilePlacementEnv()\n",
    "\n",
    "# Initialize the environment\n",
    "state = env.reset()\n",
    "\n",
    "# Number of steps to simulate\n",
    "num_steps = 5\n",
    "\n",
    "# Simulate some steps and render the state after each step\n",
    "for _ in range(num_steps):\n",
    "    action = env.action_space.sample()  # Randomly sample an action\n",
    "    state, reward, done, info = env.step(action)\n",
    "    env.render()  # Visualize the current state\n",
    "    print(state)\n",
    "    print(done)\n",
    "    \n",
    "    if done:\n",
    "        print(\"The board is filled or a terminal state is reached.\")\n",
    "        break"
   ]
  },
  {
   "cell_type": "code",
   "execution_count": 4,
   "id": "9549505e",
   "metadata": {
    "scrolled": false
   },
   "outputs": [
    {
     "name": "stdout",
     "output_type": "stream",
     "text": [
      "Board filled, resetting.\n",
      "63\n",
      ". X . X X\n",
      "X X X X X\n",
      "X . X X .\n",
      "X X X X X\n",
      "X X X . X\n",
      "\n",
      "Board filled, resetting.\n",
      "79\n",
      "X X X X .\n",
      "X X X X X\n",
      "X X X X X\n",
      "X X . X X\n",
      "X X X X .\n",
      "\n",
      "Board filled, resetting.\n",
      "181\n",
      "X X X X X\n",
      "X X X X X\n",
      ". X X X X\n",
      "X X X X X\n",
      "X X X X X\n",
      "\n",
      "Board filled, resetting.\n",
      "77\n",
      ". X . X X\n",
      "X X X X X\n",
      "X X X X X\n",
      ". X . X X\n",
      "X X X X .\n",
      "\n",
      "Board filled, resetting.\n",
      "117\n",
      "X X X X X\n",
      "X X X X X\n",
      "X X X X X\n",
      "X X X X X\n",
      ". X X X X\n",
      "\n"
     ]
    }
   ],
   "source": [
    "env = BasicTilePlacementEnv()\n",
    "number_of_episode = 5\n",
    "for episode in range(number_of_episode):\n",
    "    env.reset()\n",
    "    done = False\n",
    "    number_of_step = 0\n",
    "    while not done:  # Attempt to place some tiles\n",
    "        action = env.action_space.sample()  # Randomly sample an action\n",
    "        state, reward, done, info = env.step(action)\n",
    "        number_of_step = number_of_step + 1\n",
    "        if done:\n",
    "            print(\"Board filled, resetting.\")\n",
    "            print(number_of_step)\n",
    "    env.render()\n",
    "        "
   ]
  },
  {
   "cell_type": "markdown",
   "id": "b9e642e8",
   "metadata": {},
   "source": [
    "## Matplotlib render"
   ]
  },
  {
   "cell_type": "code",
   "execution_count": 5,
   "id": "dc3efb13",
   "metadata": {},
   "outputs": [],
   "source": [
    "import matplotlib.pyplot as plt\n",
    "import numpy as np\n",
    "\n",
    "def render(self, mode='human'):\n",
    "    fig, ax = plt.subplots()\n",
    "    ax.set_xlim(0, self.board_size)\n",
    "    ax.set_ylim(0, self.board_size)\n",
    "    ax.set_xticks(np.arange(0, self.board_size, 1))\n",
    "    ax.set_yticks(np.arange(0, self.board_size, 1))\n",
    "    \n",
    "    # Draw gridlines\n",
    "    ax.grid(which='both', color='k', linestyle='-', linewidth=1)\n",
    "    ax.set_xticklabels([])\n",
    "    ax.set_yticklabels([])\n",
    "    \n",
    "    # Fill in tiles\n",
    "    for x in range(self.board_size):\n",
    "        for y in range(self.board_size):\n",
    "            if self.state[x][y] == 1:\n",
    "                ax.add_patch(plt.Rectangle((y, self.board_size - x - 1), 1, 1, fill=True, color='blue'))\n",
    "            else:\n",
    "                ax.add_patch(plt.Rectangle((y, self.board_size - x - 1), 1, 1, fill=False))\n",
    "    \n",
    "    plt.show()"
   ]
  },
  {
   "cell_type": "code",
   "execution_count": 6,
   "id": "ee2d3b26",
   "metadata": {},
   "outputs": [],
   "source": [
    "import gymnasium as gym\n",
    "from gymnasium import spaces\n",
    "import matplotlib.pyplot as plt\n",
    "import numpy as np\n",
    "\n",
    "class BasicTilePlacementEnv(gym.Env):\n",
    "    def __init__(self):\n",
    "        super(BasicTilePlacementEnv, self).__init__()\n",
    "        self.board_size = 5  # Define the board size\n",
    "        # Define the action space (x, y coordinates for tile placement)\n",
    "        self.action_space = spaces.Tuple((spaces.Discrete(self.board_size),\n",
    "                                   spaces.Discrete(self.board_size),\n",
    "                                   spaces.Discrete(4)))  # 4 for up, down, left, right\n",
    "\n",
    "        # Define the observation space (the state of the board)\n",
    "        self.observation_space = spaces.Box(low=0, high=1,\n",
    "                                            shape=(self.board_size, self.board_size),\n",
    "                                            dtype=int)\n",
    "        self.state = None  # To keep track of the board state\n",
    "        self.is_first_move = True  # Initialize the is_first_move attribute here\n",
    "        \n",
    "    def is_valid_placement(self, start, direction):\n",
    "        # Calculate the second tile's position based on direction\n",
    "        if direction == 'up':\n",
    "            end = (start[0] - 1, start[1])\n",
    "        elif direction == 'down':\n",
    "            end = (start[0] + 1, start[1])\n",
    "        elif direction == 'left':\n",
    "            end = (start[0], start[1] - 1)\n",
    "        elif direction == 'right':\n",
    "            end = (start[0], start[1] + 1)\n",
    "        else:\n",
    "            return False  # Invalid direction\n",
    "\n",
    "        # Check for out-of-bounds or overlapping tiles\n",
    "        if not (0 <= end[0] < self.board_size and 0 <= end[1] < self.board_size):\n",
    "            return False\n",
    "        if self.state[start[0]][start[1]] != 0 or self.state[end[0]][end[1]] != 0:\n",
    "            return False\n",
    "\n",
    "        # Check if the new domino touches at least one previously placed domino\n",
    "        # This check is skipped for the first move\n",
    "        if not self.is_first_move:\n",
    "            touching = False\n",
    "            for dx, dy in [(-1, 0), (1, 0), (0, -1), (0, 1)]:  # Check adjacent cells\n",
    "                adj_cells = [(start[0] + dx, start[1] + dy), (end[0] + dx, end[1] + dy)]\n",
    "                for x, y in adj_cells:\n",
    "                    if 0 <= x < self.board_size and 0 <= y < self.board_size:\n",
    "                        if self.state[x][y] == 1:  # Adjust this check based on your state representation\n",
    "                            touching = True\n",
    "            if not touching:\n",
    "                return False\n",
    "        else:\n",
    "            self.is_first_move = False\n",
    "\n",
    "        return True  # The placement is valid\n",
    "\n",
    "    def check_game_over(self):\n",
    "    # Vérifie s'il reste des cases vides\n",
    "    #for row in self.state:\n",
    "        #if 0 in row:\n",
    "            #return False\n",
    "\n",
    "        # Vérifie s'il existe encore des mouvements valides\n",
    "        for i in range(len(self.state)):\n",
    "            for j in range(len(self.state[0])):\n",
    "                if self.state[i][j] == 0:\n",
    "                    # Vérifie les cases adjacentes (haut, bas, gauche, droite)\n",
    "                    if (i > 0 and self.state[i - 1][j] == 0) or \\\n",
    "                       (i < len(self.state) - 1 and self.state[i + 1][j] == 0) or \\\n",
    "                       (j > 0 and self.state[i][j - 1] == 0) or \\\n",
    "                       (j < len(self.state[0]) - 1 and self.state[i][j + 1] == 0):\n",
    "                        return False\n",
    "\n",
    "        # Si aucune case vide n'est trouvée et aucun mouvement valide n'est possible, le jeu est terminé\n",
    "        return True\n",
    "\n",
    "        \n",
    "    def step(self, action):\n",
    "        # Decode the action into position (x, y) and orientation (0: up, 1: down, 2: left, 3: right)\n",
    "        x, y, orientation = action\n",
    "        directions = ['up', 'down', 'left', 'right']\n",
    "        direction = directions[orientation]\n",
    "\n",
    "        # Check if the placement is valid\n",
    "        if not self.is_valid_placement((x, y), direction):\n",
    "            # Penalize invalid moves to discourage them\n",
    "            return self.state, -1, False, {\"reason\": \"Invalid placement\"}\n",
    "\n",
    "        # Calculate the second tile's position based on the direction of the first tile\n",
    "        if direction == 'up':\n",
    "            second_tile = (x - 1, y)\n",
    "        elif direction == 'down':\n",
    "            second_tile = (x + 1, y)\n",
    "        elif direction == 'left':\n",
    "            second_tile = (x, y - 1)\n",
    "        elif direction == 'right':\n",
    "            second_tile = (x, y + 1)\n",
    "\n",
    "        # Place the domino on the board\n",
    "        self.state[x][y] = 1\n",
    "        self.state[second_tile[0]][second_tile[1]] = 1\n",
    "\n",
    "        # Check if the game is done (e.g., no more valid moves, or board is filled)\n",
    "        done = self.check_game_over()\n",
    "\n",
    "        # Define the reward mechanism; simple example: +1 for each successful move\n",
    "        reward = 1\n",
    "\n",
    "        # Optionally, provide additional info about the step\n",
    "        info = {}\n",
    "\n",
    "        return self.state, reward, done, info\n",
    "\n",
    "\n",
    "\n",
    "    def reset(self):\n",
    "        # Reset the environment to an initial state\n",
    "        self.state = [[0 for _ in range(self.board_size)] for _ in range(self.board_size)]\n",
    "        # Set the center position to 1\n",
    "        center_row = self.board_size // 2\n",
    "        center_col = self.board_size // 2\n",
    "        self.state[center_row][center_col] = 1\n",
    "        self.is_first_move = True  # Reset is_first_move to True at the start of each episode\n",
    "        return self.state  # Return the initial state\n",
    "\n",
    "    \n",
    "\n",
    "    def render(self, mode='human'):\n",
    "        fig, ax = plt.subplots()\n",
    "        ax.set_xlim(0, self.board_size)\n",
    "        ax.set_ylim(0, self.board_size)\n",
    "        ax.set_xticks(np.arange(0, self.board_size, 1))\n",
    "        ax.set_yticks(np.arange(0, self.board_size, 1))\n",
    "\n",
    "        # Draw gridlines\n",
    "        ax.grid(which='both', color='k', linestyle='-', linewidth=1)\n",
    "        ax.set_xticklabels([])\n",
    "        ax.set_yticklabels([])\n",
    "\n",
    "        # Fill in tiles\n",
    "        for x in range(self.board_size):\n",
    "            for y in range(self.board_size):\n",
    "                if self.state[x][y] == 1:\n",
    "                    ax.add_patch(plt.Rectangle((y, self.board_size - x - 1), 1, 1, fill=True, color='blue'))\n",
    "                else:\n",
    "                    ax.add_patch(plt.Rectangle((y, self.board_size - x - 1), 1, 1, fill=False))\n",
    "\n",
    "        plt.show()\n"
   ]
  },
  {
   "cell_type": "code",
   "execution_count": 7,
   "id": "07063ce4",
   "metadata": {},
   "outputs": [
    {
     "name": "stdout",
     "output_type": "stream",
     "text": [
      "Board filled, resetting.\n",
      "71\n"
     ]
    },
    {
     "data": {
      "image/png": "[encoded data removed]",
      "text/plain": [
       "<Figure size 640x480 with 1 Axes>"
      ]
     },
     "metadata": {},
     "output_type": "display_data"
    },
    {
     "name": "stdout",
     "output_type": "stream",
     "text": [
      "Board filled, resetting.\n",
      "75\n"
     ]
    },
    {
     "data": {
      "image/png": "[encoded data removed]",
      "text/plain": [
       "<Figure size 640x480 with 1 Axes>"
      ]
     },
     "metadata": {},
     "output_type": "display_data"
    },
    {
     "name": "stdout",
     "output_type": "stream",
     "text": [
      "Board filled, resetting.\n",
      "141\n"
     ]
    },
    {
     "data": {
      "image/png": "[encoded data removed]",
      "text/plain": [
       "<Figure size 640x480 with 1 Axes>"
      ]
     },
     "metadata": {},
     "output_type": "display_data"
    },
    {
     "name": "stdout",
     "output_type": "stream",
     "text": [
      "Board filled, resetting.\n",
      "52\n"
     ]
    },
    {
     "data": {
      "image/png": "[encoded data removed]",
      "text/plain": [
       "<Figure size 640x480 with 1 Axes>"
      ]
     },
     "metadata": {},
     "output_type": "display_data"
    },
    {
     "name": "stdout",
     "output_type": "stream",
     "text": [
      "Board filled, resetting.\n",
      "36\n"
     ]
    },
    {
     "data": {
      "image/png": "[encoded data removed]",
      "text/plain": [
       "<Figure size 640x480 with 1 Axes>"
      ]
     },
     "metadata": {},
     "output_type": "display_data"
    }
   ],
   "source": [
    "env = BasicTilePlacementEnv()\n",
    "number_of_episode = 5\n",
    "for episode in range(number_of_episode):\n",
    "    env.reset()\n",
    "    done = False\n",
    "    number_of_step = 0\n",
    "    while not done:  # Attempt to place some tiles\n",
    "        action = env.action_space.sample()  # Randomly sample an action\n",
    "        state, reward, done, info = env.step(action)\n",
    "        number_of_step = number_of_step + 1\n",
    "        if done:\n",
    "            print(\"Board filled, resetting.\")\n",
    "            print(number_of_step)\n",
    "    env.render()        "
   ]
  },
  {
   "cell_type": "code",
   "execution_count": 8,
   "id": "4a688fd7",
   "metadata": {},
   "outputs": [
    {
     "data": {
      "text/plain": [
       "[[0, 0, 0, 0, 0],\n",
       " [0, 0, 0, 0, 0],\n",
       " [0, 0, 1, 0, 0],\n",
       " [0, 0, 0, 0, 0],\n",
       " [0, 0, 0, 0, 0]]"
      ]
     },
     "execution_count": 8,
     "metadata": {},
     "output_type": "execute_result"
    }
   ],
   "source": [
    "env.reset()\n",
    "env.state"
   ]
  },
  {
   "cell_type": "code",
   "execution_count": 9,
   "id": "b583203f",
   "metadata": {},
   "outputs": [],
   "source": [
    "from gymnasium.envs.registration import register\n",
    "\n",
    "register(\n",
    "    id='BasicTilePlacement-v0',\n",
    "    entry_point='Toy_game_kingdomino:BasicTilePlacementEnv',\n",
    ")\n"
   ]
  },
  {
   "cell_type": "markdown",
   "id": "d8456acd",
   "metadata": {},
   "source": [
    "Correcting the environnement so now the game start with a tile on the middle to stick to the kingdomino environment"
   ]
  },
  {
   "cell_type": "code",
   "execution_count": 10,
   "id": "f1c26c5b",
   "metadata": {},
   "outputs": [],
   "source": [
    "import gymnasium as gym\n",
    "from gymnasium import spaces\n",
    "import matplotlib.pyplot as plt\n",
    "import numpy as np\n",
    "\n",
    "class BasicTilePlacementEnv(gym.Env):\n",
    "    def __init__(self):\n",
    "        super(BasicTilePlacementEnv, self).__init__()\n",
    "        self.board_size = 5  # Define the board size\n",
    "        # Define the action space (x, y coordinates for tile placement)\n",
    "        self.action_space = spaces.Tuple((spaces.Discrete(self.board_size),\n",
    "                                   spaces.Discrete(self.board_size),\n",
    "                                   spaces.Discrete(4)))  # 4 for up, down, left, right\n",
    "\n",
    "        # Define the observation space (the state of the board)\n",
    "        self.observation_space = spaces.Box(low=0, high=1,\n",
    "                                            shape=(self.board_size, self.board_size),\n",
    "                                            dtype=int)\n",
    "        self.state = None  # To keep track of the board state\n",
    "        \n",
    "    def is_valid_placement(self, start, direction):\n",
    "        # Calculate the second tile's position based on direction\n",
    "        if direction == 'up':\n",
    "            end = (start[0] - 1, start[1])\n",
    "        elif direction == 'down':\n",
    "            end = (start[0] + 1, start[1])\n",
    "        elif direction == 'left':\n",
    "            end = (start[0], start[1] - 1)\n",
    "        elif direction == 'right':\n",
    "            end = (start[0], start[1] + 1)\n",
    "        else:\n",
    "            return False  # Invalid direction\n",
    "\n",
    "        # Check for out-of-bounds or overlapping tiles\n",
    "        if not (0 <= end[0] < self.board_size and 0 <= end[1] < self.board_size):\n",
    "            return False\n",
    "        if self.state[start[0]][start[1]] != 0 or self.state[end[0]][end[1]] != 0:\n",
    "            return False\n",
    "\n",
    "        # Check if the new domino touches at least one previously placed domino\n",
    "        touching = False\n",
    "        for dx, dy in [(-1, 0), (1, 0), (0, -1), (0, 1)]:  # Check adjacent cells\n",
    "            adj_cells = [(start[0] + dx, start[1] + dy), (end[0] + dx, end[1] + dy)]\n",
    "            for x, y in adj_cells:\n",
    "                if 0 <= x < self.board_size and 0 <= y < self.board_size:\n",
    "                    if self.state[x][y] == 1:  # Adjust this check based on your state representation\n",
    "                        touching = True\n",
    "        if not touching:\n",
    "            return False\n",
    "\n",
    "        return True  # The placement is valid\n",
    "\n",
    "    def check_game_over(self):\n",
    "    # Vérifie s'il reste des cases vides\n",
    "    #for row in self.state:\n",
    "        #if 0 in row:\n",
    "            #return False\n",
    "\n",
    "        # Vérifie s'il existe encore des mouvements valides\n",
    "        for i in range(len(self.state)):\n",
    "            for j in range(len(self.state[0])):\n",
    "                if self.state[i][j] == 0:\n",
    "                    # Vérifie les cases adjacentes (haut, bas, gauche, droite)\n",
    "                    if (i > 0 and self.state[i - 1][j] == 0) or \\\n",
    "                       (i < len(self.state) - 1 and self.state[i + 1][j] == 0) or \\\n",
    "                       (j > 0 and self.state[i][j - 1] == 0) or \\\n",
    "                       (j < len(self.state[0]) - 1 and self.state[i][j + 1] == 0):\n",
    "                        return False\n",
    "\n",
    "        # Si aucune case vide n'est trouvée et aucun mouvement valide n'est possible, le jeu est terminé\n",
    "        return True\n",
    "\n",
    "        \n",
    "    def step(self, action):\n",
    "        # Decode the action into position (x, y) and orientation (0: up, 1: down, 2: left, 3: right)\n",
    "        x, y, orientation = action\n",
    "        directions = ['up', 'down', 'left', 'right']\n",
    "        direction = directions[orientation]\n",
    "\n",
    "        # Check if the placement is valid\n",
    "        if not self.is_valid_placement((x, y), direction):\n",
    "            # Penalize invalid moves to discourage them\n",
    "            return self.state, -1, False, {\"reason\": \"Invalid placement\"}\n",
    "\n",
    "        # Calculate the second tile's position based on the direction of the first tile\n",
    "        if direction == 'up':\n",
    "            second_tile = (x - 1, y)\n",
    "        elif direction == 'down':\n",
    "            second_tile = (x + 1, y)\n",
    "        elif direction == 'left':\n",
    "            second_tile = (x, y - 1)\n",
    "        elif direction == 'right':\n",
    "            second_tile = (x, y + 1)\n",
    "\n",
    "        # Place the domino on the board\n",
    "        self.state[x][y] = 1\n",
    "        self.state[second_tile[0]][second_tile[1]] = 1\n",
    "\n",
    "        # Check if the game is done (e.g., no more valid moves, or board is filled)\n",
    "        done = self.check_game_over()\n",
    "\n",
    "        # Define the reward mechanism; simple example: +1 for each successful move\n",
    "        reward = 1\n",
    "\n",
    "        # Optionally, provide additional info about the step\n",
    "        info = {}\n",
    "\n",
    "        return self.state, reward, done, info\n",
    "\n",
    "\n",
    "\n",
    "    def reset(self):\n",
    "        # Reset the environment to an initial state\n",
    "        self.state = [[0 for _ in range(self.board_size)] for _ in range(self.board_size)]\n",
    "        \n",
    "        # Set the center position to 1\n",
    "        center_row = self.board_size // 2\n",
    "        center_col = self.board_size // 2\n",
    "        self.state[center_row][center_col] = 1\n",
    "\n",
    "        return self.state  # Return the initial state\n",
    "\n",
    "    \n",
    "\n",
    "    def render(self, mode='human'):\n",
    "        fig, ax = plt.subplots()\n",
    "        ax.set_xlim(0, self.board_size)\n",
    "        ax.set_ylim(0, self.board_size)\n",
    "        ax.set_xticks(np.arange(0, self.board_size, 1))\n",
    "        ax.set_yticks(np.arange(0, self.board_size, 1))\n",
    "\n",
    "        # Draw gridlines\n",
    "        ax.grid(which='both', color='k', linestyle='-', linewidth=1)\n",
    "        ax.set_xticklabels([])\n",
    "        ax.set_yticklabels([])\n",
    "\n",
    "        # Fill in tiles\n",
    "        for x in range(self.board_size):\n",
    "            for y in range(self.board_size):\n",
    "                if self.state[x][y] == 1:\n",
    "                    ax.add_patch(plt.Rectangle((y, self.board_size - x - 1), 1, 1, fill=True, color='blue'))\n",
    "                else:\n",
    "                    ax.add_patch(plt.Rectangle((y, self.board_size - x - 1), 1, 1, fill=False))\n",
    "\n",
    "        plt.show()\n"
   ]
  },
  {
   "cell_type": "markdown",
   "id": "ea27563e",
   "metadata": {},
   "source": [
    "adding the color"
   ]
  },
  {
   "cell_type": "code",
   "execution_count": 18,
   "id": "02628724",
   "metadata": {},
   "outputs": [],
   "source": [
    "import gymnasium as gym\n",
    "from gymnasium import spaces\n",
    "import matplotlib.pyplot as plt\n",
    "import numpy as np\n",
    "\n",
    "class BasicTilePlacementEnv(gym.Env):\n",
    "    def __init__(self):\n",
    "        super(BasicTilePlacementEnv, self).__init__()\n",
    "        self.board_size = 5  # Define the board size\n",
    "        # Define the action space (x, y coordinates for tile placement)\n",
    "        # Update the action space to include tile color (1-4)\n",
    "        self.action_space = spaces.Tuple((\n",
    "            spaces.Discrete(self.board_size),  # x coordinate\n",
    "            spaces.Discrete(self.board_size),  # y coordinate\n",
    "            spaces.Discrete(4),                # orientation (up, down, left, right)\n",
    "            spaces.Discrete(4)                 # tile color (1, 2, 3, 4)\n",
    "        ))\n",
    "\n",
    "        # Define the observation space (the state of the board)\n",
    "        self.observation_space = spaces.Box(low=0, high=5,\n",
    "                                    shape=(self.board_size, self.board_size),\n",
    "                                    dtype=int)\n",
    "\n",
    "        self.state = None  # To keep track of the board state\n",
    "\n",
    "    def is_valid_placement(self, start, direction, tile_color):\n",
    "        # Assume tile_color parameter is passed, indicating the color of the domino being placed.\n",
    "        # Calculate the second tile's position based on direction\n",
    "        if direction == 'up':\n",
    "            end = (start[0] - 1, start[1])\n",
    "        elif direction == 'down':\n",
    "            end = (start[0] + 1, start[1])\n",
    "        elif direction == 'left':\n",
    "            end = (start[0], start[1] - 1)\n",
    "        elif direction == 'right':\n",
    "            end = (start[0], start[1] + 1)\n",
    "        else:\n",
    "            return False  # Invalid direction\n",
    "\n",
    "        # Check for out-of-bounds or overlapping tiles\n",
    "        if not (0 <= end[0] < self.board_size and 0 <= end[1] < self.board_size):\n",
    "            return False\n",
    "        if self.state[start[0]][start[1]] != 0 or self.state[end[0]][end[1]] != 0:\n",
    "            return False\n",
    "\n",
    "        # Adjust the touching check for color or special tile\n",
    "        touching = False\n",
    "        for dx, dy in [(-1, 0), (1, 0), (0, -1), (0, 1)]:\n",
    "            adj_cell = (start[0] + dx, start[1] + dy)\n",
    "            if 0 <= adj_cell[0] < self.board_size and 0 <= adj_cell[1] < self.board_size:\n",
    "                if self.state[adj_cell[0]][adj_cell[1]] == tile_color or self.state[adj_cell[0]][adj_cell[1]] == 5:\n",
    "                    touching = True\n",
    "        if not touching:\n",
    "            return False\n",
    "\n",
    "        return True\n",
    "\n",
    "\n",
    "    def check_game_over(self):\n",
    "    # Vérifie s'il reste des cases vides\n",
    "    #for row in self.state:\n",
    "        #if 0 in row:\n",
    "            #return False\n",
    "\n",
    "        # Vérifie s'il existe encore des mouvements valides\n",
    "        for i in range(len(self.state)):\n",
    "            for j in range(len(self.state[0])):\n",
    "                if self.state[i][j] == 0:\n",
    "                    # Vérifie les cases adjacentes (haut, bas, gauche, droite)\n",
    "                    if (i > 0 and self.state[i - 1][j] == 0) or \\\n",
    "                       (i < len(self.state) - 1 and self.state[i + 1][j] == 0) or \\\n",
    "                       (j > 0 and self.state[i][j - 1] == 0) or \\\n",
    "                       (j < len(self.state[0]) - 1 and self.state[i][j + 1] == 0):\n",
    "                        return False\n",
    "\n",
    "        # Si aucune case vide n'est trouvée et aucun mouvement valide n'est possible, le jeu est terminé\n",
    "        return True\n",
    "    \n",
    "    def step(self, action):\n",
    "        # Decode the action into position (x, y), orientation, and tile color\n",
    "        x, y, orientation, tile_color = action\n",
    "        directions = ['up', 'down', 'left', 'right']\n",
    "        direction = directions[orientation]\n",
    "\n",
    "        # Check if the placement is valid with the added tile color\n",
    "        if not self.is_valid_placement((x, y), direction, tile_color):\n",
    "            # Penalize invalid moves to discourage them\n",
    "            return self.state, -1, False, {\"reason\": \"Invalid placement\"}\n",
    "\n",
    "        # Calculate the second tile's position based on the direction\n",
    "        second_tile = {\n",
    "            'up': (x - 1, y),\n",
    "            'down': (x + 1, y),\n",
    "            'left': (x, y - 1),\n",
    "            'right': (x, y + 1)\n",
    "        }[direction]\n",
    "\n",
    "        # Place the domino on the board with its color\n",
    "        self.state[x][y] = tile_color\n",
    "        self.state[second_tile[0]][second_tile[1]] = tile_color\n",
    "\n",
    "        # Check if the game is done\n",
    "        done = self.check_game_over()\n",
    "\n",
    "        # Define the reward mechanism; simple example: +1 for each successful move\n",
    "        reward = 1\n",
    "\n",
    "        # Optionally, provide additional info about the step\n",
    "        info = {}\n",
    "\n",
    "        return self.state, reward, done, info\n",
    "\n",
    "\n",
    "\n",
    "\n",
    "    def reset(self):\n",
    "        # Reset the environment to an initial state\n",
    "        self.state = [[0 for _ in range(self.board_size)] for _ in range(self.board_size)]\n",
    "        \n",
    "        # Set the center position to 1\n",
    "        center_row = self.board_size // 2\n",
    "        center_col = self.board_size // 2\n",
    "        self.state[center_row][center_col] = 5\n",
    "\n",
    "        return self.state  # Return the initial state\n",
    "\n",
    "    \n",
    "\n",
    "    def render(self, mode='human'):\n",
    "        fig, ax = plt.subplots()\n",
    "        ax.set_xlim(0, self.board_size)\n",
    "        ax.set_ylim(0, self.board_size)\n",
    "        ax.set_xticks(np.arange(0, self.board_size, 1))\n",
    "        ax.set_yticks(np.arange(0, self.board_size, 1))\n",
    "\n",
    "        # Draw gridlines\n",
    "        ax.grid(which='both', color='k', linestyle='-', linewidth=1)\n",
    "        ax.set_xticklabels([])\n",
    "        ax.set_yticklabels([])\n",
    "\n",
    "        # Define a color map for the tiles, including the special tile\n",
    "        color_map = {\n",
    "            0: 'white',  # Empty\n",
    "            1: 'red',    # Color 1\n",
    "            2: 'green',  # Color 2\n",
    "            3: 'blue',   # Color 3\n",
    "            4: 'yellow', # Color 4\n",
    "            5: 'purple'  # Special tile\n",
    "        }\n",
    "\n",
    "        # Fill in tiles with corresponding colors\n",
    "        for x in range(self.board_size):\n",
    "            for y in range(self.board_size):\n",
    "                tile_value = self.state[x][y]\n",
    "                tile_color = color_map[tile_value]\n",
    "                ax.add_patch(plt.Rectangle((y, self.board_size - x - 1), 1, 1, fill=True, color=tile_color))\n",
    "\n",
    "        plt.show()\n",
    "\n"
   ]
  },
  {
   "cell_type": "code",
   "execution_count": 21,
   "id": "84061fc2",
   "metadata": {},
   "outputs": [
    {
     "name": "stdout",
     "output_type": "stream",
     "text": [
      "Board filled, resetting.\n",
      "586\n"
     ]
    },
    {
     "data": {
      "image/png": "[encoded data removed]",
      "text/plain": [
       "<Figure size 640x480 with 1 Axes>"
      ]
     },
     "metadata": {},
     "output_type": "display_data"
    },
    {
     "name": "stdout",
     "output_type": "stream",
     "text": [
      "Board filled, resetting.\n",
      "155\n"
     ]
    },
    {
     "data": {
      "image/png": "[encoded data removed]",
      "text/plain": [
       "<Figure size 640x480 with 1 Axes>"
      ]
     },
     "metadata": {},
     "output_type": "display_data"
    },
    {
     "name": "stdout",
     "output_type": "stream",
     "text": [
      "Board filled, resetting.\n",
      "588\n"
     ]
    },
    {
     "data": {
      "image/png": "[encoded data removed]",
      "text/plain": [
       "<Figure size 640x480 with 1 Axes>"
      ]
     },
     "metadata": {},
     "output_type": "display_data"
    },
    {
     "name": "stdout",
     "output_type": "stream",
     "text": [
      "Board filled, resetting.\n",
      "460\n"
     ]
    },
    {
     "data": {
      "image/png": "[encoded data removed]",
      "text/plain": [
       "<Figure size 640x480 with 1 Axes>"
      ]
     },
     "metadata": {},
     "output_type": "display_data"
    },
    {
     "name": "stdout",
     "output_type": "stream",
     "text": [
      "Board filled, resetting.\n",
      "356\n"
     ]
    },
    {
     "data": {
      "image/png": "[encoded data removed]",
      "text/plain": [
       "<Figure size 640x480 with 1 Axes>"
      ]
     },
     "metadata": {},
     "output_type": "display_data"
    }
   ],
   "source": [
    "env = BasicTilePlacementEnv()\n",
    "number_of_episode = 5\n",
    "for episode in range(number_of_episode):\n",
    "    env.reset()\n",
    "    done = False\n",
    "    number_of_step = 0\n",
    "    while not done:  # Attempt to place some tiles\n",
    "        action = env.action_space.sample()  # Randomly sample an action\n",
    "        state, reward, done, info = env.step(action)\n",
    "        number_of_step = number_of_step + 1\n",
    "        if done:\n",
    "            print(\"Board filled, resetting.\")\n",
    "            print(number_of_step)\n",
    "    env.render()        "
   ]
  },
  {
   "cell_type": "code",
   "execution_count": 24,
   "id": "1da387a4",
   "metadata": {},
   "outputs": [
    {
     "data": {
      "image/png": "[encoded data removed]",
      "text/plain": [
       "<Figure size 640x480 with 1 Axes>"
      ]
     },
     "metadata": {},
     "output_type": "display_data"
    },
    {
     "name": "stdout",
     "output_type": "stream",
     "text": [
      "[[0, 0, 0, 0, 0], [0, 0, 0, 0, 0], [0, 0, 5, 0, 0], [0, 0, 0, 0, 0], [0, 0, 0, 0, 0]]\n",
      "False\n"
     ]
    },
    {
     "data": {
      "image/png": "[encoded data removed]",
      "text/plain": [
       "<Figure size 640x480 with 1 Axes>"
      ]
     },
     "metadata": {},
     "output_type": "display_data"
    },
    {
     "name": "stdout",
     "output_type": "stream",
     "text": [
      "[[0, 0, 0, 0, 0], [0, 0, 0, 0, 0], [0, 0, 5, 0, 0], [0, 0, 0, 0, 0], [0, 0, 0, 0, 0]]\n",
      "False\n"
     ]
    },
    {
     "data": {
      "image/png": "[encoded data removed]",
      "text/plain": [
       "<Figure size 640x480 with 1 Axes>"
      ]
     },
     "metadata": {},
     "output_type": "display_data"
    },
    {
     "name": "stdout",
     "output_type": "stream",
     "text": [
      "[[0, 0, 0, 0, 0], [0, 0, 0, 0, 0], [0, 0, 5, 0, 0], [0, 0, 0, 0, 0], [0, 0, 0, 0, 0]]\n",
      "False\n"
     ]
    },
    {
     "data": {
      "image/png": "[encoded data removed]",
      "text/plain": [
       "<Figure size 640x480 with 1 Axes>"
      ]
     },
     "metadata": {},
     "output_type": "display_data"
    },
    {
     "name": "stdout",
     "output_type": "stream",
     "text": [
      "[[0, 0, 0, 0, 0], [0, 0, 0, 0, 0], [0, 0, 5, 0, 0], [0, 0, 0, 0, 0], [0, 0, 0, 0, 0]]\n",
      "False\n"
     ]
    },
    {
     "data": {
      "image/png": "[encoded data removed]",
      "text/plain": [
       "<Figure size 640x480 with 1 Axes>"
      ]
     },
     "metadata": {},
     "output_type": "display_data"
    },
    {
     "name": "stdout",
     "output_type": "stream",
     "text": [
      "[[0, 0, 0, 0, 0], [0, 0, 0, 0, 0], [0, 0, 5, 0, 0], [0, 0, 0, 0, 0], [0, 0, 0, 0, 0]]\n",
      "False\n"
     ]
    },
    {
     "data": {
      "image/png": "[encoded data removed]",
      "text/plain": [
       "<Figure size 640x480 with 1 Axes>"
      ]
     },
     "metadata": {},
     "output_type": "display_data"
    },
    {
     "name": "stdout",
     "output_type": "stream",
     "text": [
      "[[0, 0, 3, 0, 0], [0, 0, 3, 0, 0], [0, 0, 5, 0, 0], [0, 0, 0, 0, 0], [0, 0, 0, 0, 0]]\n",
      "False\n"
     ]
    },
    {
     "data": {
      "image/png": "[encoded data removed]",
      "text/plain": [
       "<Figure size 640x480 with 1 Axes>"
      ]
     },
     "metadata": {},
     "output_type": "display_data"
    },
    {
     "name": "stdout",
     "output_type": "stream",
     "text": [
      "[[0, 0, 3, 0, 0], [0, 0, 3, 0, 0], [0, 0, 5, 0, 0], [0, 0, 0, 0, 0], [0, 0, 0, 0, 0]]\n",
      "False\n"
     ]
    },
    {
     "data": {
      "image/png": "[encoded data removed]",
      "text/plain": [
       "<Figure size 640x480 with 1 Axes>"
      ]
     },
     "metadata": {},
     "output_type": "display_data"
    },
    {
     "name": "stdout",
     "output_type": "stream",
     "text": [
      "[[0, 0, 3, 0, 0], [0, 0, 3, 0, 0], [0, 0, 5, 0, 0], [0, 0, 0, 0, 0], [0, 0, 0, 0, 0]]\n",
      "False\n"
     ]
    },
    {
     "data": {
      "image/png": "[encoded data removed]",
      "text/plain": [
       "<Figure size 640x480 with 1 Axes>"
      ]
     },
     "metadata": {},
     "output_type": "display_data"
    },
    {
     "name": "stdout",
     "output_type": "stream",
     "text": [
      "[[0, 0, 3, 0, 0], [0, 0, 3, 0, 0], [0, 0, 5, 0, 0], [0, 0, 0, 0, 0], [0, 0, 0, 0, 0]]\n",
      "False\n"
     ]
    },
    {
     "data": {
      "image/png": "[encoded data removed]",
      "text/plain": [
       "<Figure size 640x480 with 1 Axes>"
      ]
     },
     "metadata": {},
     "output_type": "display_data"
    },
    {
     "name": "stdout",
     "output_type": "stream",
     "text": [
      "[[0, 0, 3, 0, 0], [0, 0, 3, 0, 0], [0, 1, 5, 0, 0], [0, 1, 0, 0, 0], [0, 0, 0, 0, 0]]\n",
      "False\n"
     ]
    },
    {
     "data": {
      "image/png": "[encoded data removed]",
      "text/plain": [
       "<Figure size 640x480 with 1 Axes>"
      ]
     },
     "metadata": {},
     "output_type": "display_data"
    },
    {
     "name": "stdout",
     "output_type": "stream",
     "text": [
      "[[0, 0, 3, 0, 0], [0, 0, 3, 0, 0], [0, 1, 5, 0, 0], [0, 1, 0, 0, 0], [0, 0, 0, 0, 0]]\n",
      "False\n"
     ]
    },
    {
     "data": {
      "image/png": "[encoded data removed]",
      "text/plain": [
       "<Figure size 640x480 with 1 Axes>"
      ]
     },
     "metadata": {},
     "output_type": "display_data"
    },
    {
     "name": "stdout",
     "output_type": "stream",
     "text": [
      "[[0, 0, 3, 0, 0], [0, 0, 3, 0, 0], [0, 1, 5, 0, 0], [0, 1, 0, 0, 0], [0, 0, 0, 0, 0]]\n",
      "False\n"
     ]
    },
    {
     "data": {
      "image/png": "[encoded data removed]",
      "text/plain": [
       "<Figure size 640x480 with 1 Axes>"
      ]
     },
     "metadata": {},
     "output_type": "display_data"
    },
    {
     "name": "stdout",
     "output_type": "stream",
     "text": [
      "[[0, 0, 3, 0, 0], [0, 0, 3, 0, 0], [0, 1, 5, 0, 0], [0, 1, 0, 0, 0], [0, 0, 0, 0, 0]]\n",
      "False\n"
     ]
    },
    {
     "data": {
      "image/png": "[encoded data removed]",
      "text/plain": [
       "<Figure size 640x480 with 1 Axes>"
      ]
     },
     "metadata": {},
     "output_type": "display_data"
    },
    {
     "name": "stdout",
     "output_type": "stream",
     "text": [
      "[[0, 0, 3, 0, 0], [0, 0, 3, 0, 0], [0, 1, 5, 0, 0], [0, 1, 0, 0, 0], [0, 0, 0, 0, 0]]\n",
      "False\n"
     ]
    },
    {
     "data": {
      "image/png": "[encoded data removed]",
      "text/plain": [
       "<Figure size 640x480 with 1 Axes>"
      ]
     },
     "metadata": {},
     "output_type": "display_data"
    },
    {
     "name": "stdout",
     "output_type": "stream",
     "text": [
      "[[0, 0, 3, 0, 0], [0, 0, 3, 0, 0], [0, 1, 5, 0, 0], [0, 1, 0, 0, 0], [0, 0, 0, 0, 0]]\n",
      "False\n"
     ]
    },
    {
     "data": {
      "image/png": "[encoded data removed]",
      "text/plain": [
       "<Figure size 640x480 with 1 Axes>"
      ]
     },
     "metadata": {},
     "output_type": "display_data"
    },
    {
     "name": "stdout",
     "output_type": "stream",
     "text": [
      "[[0, 0, 3, 0, 0], [0, 0, 3, 0, 0], [0, 1, 5, 0, 0], [0, 1, 0, 0, 0], [0, 0, 0, 0, 0]]\n",
      "False\n"
     ]
    },
    {
     "data": {
      "image/png": "[encoded data removed]",
      "text/plain": [
       "<Figure size 640x480 with 1 Axes>"
      ]
     },
     "metadata": {},
     "output_type": "display_data"
    },
    {
     "name": "stdout",
     "output_type": "stream",
     "text": [
      "[[0, 0, 3, 0, 0], [0, 0, 3, 0, 0], [0, 1, 5, 0, 0], [0, 1, 0, 0, 0], [0, 0, 0, 0, 0]]\n",
      "False\n"
     ]
    },
    {
     "data": {
      "image/png": "[encoded data removed]",
      "text/plain": [
       "<Figure size 640x480 with 1 Axes>"
      ]
     },
     "metadata": {},
     "output_type": "display_data"
    },
    {
     "name": "stdout",
     "output_type": "stream",
     "text": [
      "[[0, 0, 3, 0, 0], [0, 0, 3, 0, 0], [0, 1, 5, 0, 0], [0, 1, 0, 0, 0], [0, 0, 0, 0, 0]]\n",
      "False\n"
     ]
    },
    {
     "data": {
      "image/png": "[encoded data removed]",
      "text/plain": [
       "<Figure size 640x480 with 1 Axes>"
      ]
     },
     "metadata": {},
     "output_type": "display_data"
    },
    {
     "name": "stdout",
     "output_type": "stream",
     "text": [
      "[[0, 0, 3, 0, 0], [0, 0, 3, 0, 0], [0, 1, 5, 0, 0], [0, 1, 0, 0, 0], [0, 0, 0, 0, 0]]\n",
      "False\n"
     ]
    },
    {
     "data": {
      "image/png": "[encoded data removed]",
      "text/plain": [
       "<Figure size 640x480 with 1 Axes>"
      ]
     },
     "metadata": {},
     "output_type": "display_data"
    },
    {
     "name": "stdout",
     "output_type": "stream",
     "text": [
      "[[0, 0, 3, 0, 0], [0, 0, 3, 0, 0], [0, 1, 5, 0, 0], [0, 1, 0, 0, 0], [0, 0, 0, 0, 0]]\n",
      "False\n"
     ]
    }
   ],
   "source": [
    "# Create an instance of the environment\n",
    "env = BasicTilePlacementEnv()\n",
    "\n",
    "# Initialize the environment\n",
    "state = env.reset()\n",
    "\n",
    "# Number of steps to simulate\n",
    "num_steps = 20\n",
    "\n",
    "# Simulate some steps and render the state after each step\n",
    "for _ in range(num_steps):\n",
    "    action = env.action_space.sample()  # Randomly sample an action\n",
    "    state, reward, done, info = env.step(action)\n",
    "    env.render()  # Visualize the current state\n",
    "    print(state)\n",
    "    print(done)\n",
    "    \n",
    "    if done:\n",
    "        print(\"The board is filled or a terminal state is reached.\")\n",
    "        break\n",
    "        "
   ]
  },
  {
   "cell_type": "code",
   "execution_count": 20,
   "id": "de0ed564",
   "metadata": {},
   "outputs": [
    {
     "data": {
      "text/plain": [
       "(4, 1, 2, 2)"
      ]
     },
     "execution_count": 20,
     "metadata": {},
     "output_type": "execute_result"
    }
   ],
   "source": [
    "env.action_space.sample()  # Randomly sample an action\n"
   ]
  },
  {
   "cell_type": "markdown",
   "id": "91fbcb1b",
   "metadata": {},
   "source": [
    "Testing bicolor dominos"
   ]
  },
  {
   "cell_type": "code",
   "execution_count": null,
   "id": "72fb5605",
   "metadata": {},
   "outputs": [],
   "source": [
    "import gymnasium as gym\n",
    "from gymnasium import spaces\n",
    "import matplotlib.pyplot as plt\n",
    "import numpy as np\n",
    "\n",
    "class BasicTilePlacementEnv(gym.Env):\n",
    "    def __init__(self):\n",
    "        super(BasicTilePlacementEnv, self).__init__()\n",
    "        self.board_size = 5\n",
    "        # Extend the action space to include two colors for the domino\n",
    "        self.action_space = spaces.Tuple((\n",
    "            spaces.Discrete(self.board_size),  # x coordinate\n",
    "            spaces.Discrete(self.board_size),  # y coordinate\n",
    "            spaces.Discrete(4),                # orientation (up, down, left, right)\n",
    "            spaces.Discrete(4),                # tile color 1 (1, 2, 3, 4)\n",
    "            spaces.Discrete(4)                 # tile color 2 (1, 2, 3, 4)\n",
    "        ))\n",
    "        self.observation_space = spaces.Box(low=0, high=5,\n",
    "                                            shape=(self.board_size, self.board_size, 2),  # Note the change here to accommodate bicolor tiles\n",
    "                                            dtype=int)\n",
    "        self.state = None\n",
    "\n",
    "\n",
    "    def is_valid_placement(self, start, direction, tile_color):\n",
    "        # Assume tile_color parameter is passed, indicating the color of the domino being placed.\n",
    "        # Calculate the second tile's position based on direction\n",
    "        if direction == 'up':\n",
    "            end = (start[0] - 1, start[1])\n",
    "        elif direction == 'down':\n",
    "            end = (start[0] + 1, start[1])\n",
    "        elif direction == 'left':\n",
    "            end = (start[0], start[1] - 1)\n",
    "        elif direction == 'right':\n",
    "            end = (start[0], start[1] + 1)\n",
    "        else:\n",
    "            return False  # Invalid direction\n",
    "\n",
    "        # Check for out-of-bounds or overlapping tiles\n",
    "        if not (0 <= end[0] < self.board_size and 0 <= end[1] < self.board_size):\n",
    "            return False\n",
    "        if self.state[start[0]][start[1]] != 0 or self.state[end[0]][end[1]] != 0:\n",
    "            return False\n",
    "\n",
    "        # Adjust the touching check for color or special tile\n",
    "        touching = False\n",
    "        for dx, dy in [(-1, 0), (1, 0), (0, -1), (0, 1)]:\n",
    "            adj_cell = (start[0] + dx, start[1] + dy)\n",
    "            if 0 <= adj_cell[0] < self.board_size and 0 <= adj_cell[1] < self.board_size:\n",
    "                if self.state[adj_cell[0]][adj_cell[1]] == tile_color or self.state[adj_cell[0]][adj_cell[1]] == 5:\n",
    "                    touching = True\n",
    "        if not touching:\n",
    "            return False\n",
    "\n",
    "        return True\n",
    "\n",
    "\n",
    "    def check_game_over(self):\n",
    "        # Vérifie s'il reste des cases vides\n",
    "        #for row in self.state:\n",
    "            #if 0 in row:\n",
    "                #return False\n",
    "\n",
    "            # Vérifie s'il existe encore des mouvements valides\n",
    "            for i in range(len(self.state)):\n",
    "                for j in range(len(self.state[0])):\n",
    "                    if self.state[i][j] == 0:\n",
    "                        # Vérifie les cases adjacentes (haut, bas, gauche, droite)\n",
    "                        if (i > 0 and self.state[i - 1][j] == 0) or \\\n",
    "                           (i < len(self.state) - 1 and self.state[i + 1][j] == 0) or \\\n",
    "                           (j > 0 and self.state[i][j - 1] == 0) or \\\n",
    "                           (j < len(self.state[0]) - 1 and self.state[i][j + 1] == 0):\n",
    "                            return False\n",
    "\n",
    "            # Si aucune case vide n'est trouvée et aucun mouvement valide n'est possible, le jeu est terminé\n",
    "            return True\n",
    "\n",
    "        def step(self, action):\n",
    "        # Decode the action into position (x, y), orientation, and two tile colors\n",
    "        x, y, orientation, tile_color_1, tile_color_2 = action\n",
    "        directions = ['up', 'down', 'left', 'right']\n",
    "        direction = directions[orientation]\n",
    "\n",
    "        if not self.is_valid_placement((x, y), direction, tile_color_1, tile_color_2):\n",
    "            return self.state, -1, False, {\"reason\": \"Invalid placement\"}\n",
    "\n",
    "        # Determine the second tile's position based on the direction\n",
    "        second_tile = {\n",
    "            'up': (x - 1, y),\n",
    "            'down': (x + 1, y),\n",
    "            'left': (x, y - 1),\n",
    "            'right': (x, y + 1)\n",
    "        }[direction]\n",
    "\n",
    "        # Place the domino on the board with respective colors\n",
    "        # Adjust your state representation as needed to accommodate bicolor placement\n",
    "        self.state[x][y][0] = tile_color_1  # Assuming [0] for the first tile color\n",
    "        self.state[second_tile[0]][second_tile[1]][1] = tile_color_2  # Assuming [1] for the second tile color\n",
    "\n",
    "        done = self.check_game_over()\n",
    "        reward = 1\n",
    "        info = {}\n",
    "\n",
    "        return self.state, reward, done, info\n",
    "\n",
    "\n",
    "\n",
    "\n",
    "\n",
    "    def reset(self):\n",
    "        # Reset the environment to an initial state\n",
    "        self.state = [[0 for _ in range(self.board_size)] for _ in range(self.board_size)]\n",
    "        \n",
    "        # Set the center position to 1\n",
    "        center_row = self.board_size // 2\n",
    "        center_col = self.board_size // 2\n",
    "        self.state[center_row][center_col] = 5\n",
    "\n",
    "        return self.state  # Return the initial state\n",
    "\n",
    "    \n",
    "\n",
    "    def render(self, mode='human'):\n",
    "        fig, ax = plt.subplots()\n",
    "        ax.set_xlim(0, self.board_size)\n",
    "        ax.set_ylim(0, self.board_size)\n",
    "        ax.set_xticks(np.arange(0, self.board_size, 1))\n",
    "        ax.set_yticks(np.arange(0, self.board_size, 1))\n",
    "\n",
    "        # Draw gridlines\n",
    "        ax.grid(which='both', color='k', linestyle='-', linewidth=1)\n",
    "        ax.set_xticklabels([])\n",
    "        ax.set_yticklabels([])\n",
    "\n",
    "        # Define a color map for the tiles, including the special tile\n",
    "        color_map = {\n",
    "            0: 'white',  # Empty\n",
    "            1: 'red',    # Color 1\n",
    "            2: 'green',  # Color 2\n",
    "            3: 'blue',   # Color 3\n",
    "            4: 'yellow', # Color 4\n",
    "            5: 'purple'  # Special tile\n",
    "        }\n",
    "\n",
    "        # Fill in tiles with corresponding colors\n",
    "        for x in range(self.board_size):\n",
    "            for y in range(self.board_size):\n",
    "                tile_value = self.state[x][y]\n",
    "                tile_color = color_map[tile_value]\n",
    "                ax.add_patch(plt.Rectangle((y, self.board_size - x - 1), 1, 1, fill=True, color=tile_color))\n",
    "\n",
    "        plt.show()\n",
    "\n"
   ]
  },
  {
   "cell_type": "markdown",
   "id": "715db55c",
   "metadata": {},
   "source": [
    "## Building an Agent"
   ]
  },
  {
   "cell_type": "code",
   "execution_count": 11,
   "id": "f3e12e16",
   "metadata": {},
   "outputs": [],
   "source": [
    "import numpy as np\n",
    "\n",
    "class QLearningAgent:\n",
    "    def __init__(self, state_size, action_size, learning_rate=0.1, discount_rate=0.95, exploration_rate=1.0, exploration_decay=0.99, min_exploration_rate=0.01):\n",
    "        self.state_size = state_size\n",
    "        self.action_size = action_size\n",
    "        self.learning_rate = learning_rate\n",
    "        self.discount_rate = discount_rate\n",
    "        self.exploration_rate = exploration_rate\n",
    "        self.exploration_decay = exploration_decay\n",
    "        self.min_exploration_rate = min_exploration_rate\n",
    "        self.q_table = np.zeros((state_size, action_size))\n",
    "    \n",
    "    def act(self, state):\n",
    "        if np.random.rand() < self.exploration_rate:\n",
    "            return np.random.randint(self.action_size)  # Explore\n",
    "        else:\n",
    "            return np.argmax(self.q_table[state])  # Exploit\n",
    "    \n",
    "    def update(self, state, action, reward, next_state, done):\n",
    "        if not done:\n",
    "            max_future_q = np.max(self.q_table[next_state])\n",
    "            current_q = self.q_table[state, action]\n",
    "            new_q = current_q + self.learning_rate * (reward + self.discount_rate * max_future_q - current_q)\n",
    "            self.q_table[state, action] = new_q\n",
    "        \n",
    "        # Update exploration rate\n",
    "        self.exploration_rate = max(self.min_exploration_rate, self.exploration_rate * self.exploration_decay)\n"
   ]
  },
  {
   "cell_type": "code",
   "execution_count": 12,
   "id": "d138a366",
   "metadata": {},
   "outputs": [
    {
     "ename": "AttributeError",
     "evalue": "'Box' object has no attribute 'n'",
     "output_type": "error",
     "traceback": [
      "\u001b[1;31m---------------------------------------------------------------------------\u001b[0m",
      "\u001b[1;31mAttributeError\u001b[0m                            Traceback (most recent call last)",
      "\u001b[1;32m~\\AppData\\Local\\Temp\\ipykernel_14904\\1687377360.py\u001b[0m in \u001b[0;36m<module>\u001b[1;34m\u001b[0m\n\u001b[0;32m      3\u001b[0m \u001b[1;33m\u001b[0m\u001b[0m\n\u001b[0;32m      4\u001b[0m \u001b[1;31m# Initialize the agent\u001b[0m\u001b[1;33m\u001b[0m\u001b[1;33m\u001b[0m\u001b[0m\n\u001b[1;32m----> 5\u001b[1;33m \u001b[0magent\u001b[0m \u001b[1;33m=\u001b[0m \u001b[0mQLearningAgent\u001b[0m\u001b[1;33m(\u001b[0m\u001b[0mstate_size\u001b[0m\u001b[1;33m=\u001b[0m\u001b[0menv\u001b[0m\u001b[1;33m.\u001b[0m\u001b[0mobservation_space\u001b[0m\u001b[1;33m.\u001b[0m\u001b[0mn\u001b[0m\u001b[1;33m,\u001b[0m \u001b[0maction_size\u001b[0m\u001b[1;33m=\u001b[0m\u001b[0menv\u001b[0m\u001b[1;33m.\u001b[0m\u001b[0maction_space\u001b[0m\u001b[1;33m.\u001b[0m\u001b[0mn\u001b[0m\u001b[1;33m)\u001b[0m\u001b[1;33m\u001b[0m\u001b[1;33m\u001b[0m\u001b[0m\n\u001b[0m\u001b[0;32m      6\u001b[0m \u001b[1;33m\u001b[0m\u001b[0m\n\u001b[0;32m      7\u001b[0m \u001b[1;31m# Training loop\u001b[0m\u001b[1;33m\u001b[0m\u001b[1;33m\u001b[0m\u001b[0m\n",
      "\u001b[1;31mAttributeError\u001b[0m: 'Box' object has no attribute 'n'"
     ]
    }
   ],
   "source": [
    "total_episodes = 1000  # Define the total number of episodes for training\n",
    "max_steps_per_episode = 100  # Define the maximum steps per episode\n",
    "\n",
    "# Initialize the agent\n",
    "agent = QLearningAgent(state_size=env.observation_space.n, action_size=env.action_space.n)\n",
    "\n",
    "# Training loop\n",
    "for episode in range(total_episodes):\n",
    "    state = env.reset()  # Reset the environment for a new episode\n",
    "    done = False\n",
    "    total_rewards = 0\n",
    "    \n",
    "    for step in range(max_steps_per_episode):\n",
    "        action = agent.act(state)  # Choose an action\n",
    "        next_state, reward, done, info = env.step(action)  # Take the action\n",
    "        agent.update(state, action, reward, next_state, done)  # Update Q-table\n",
    "        \n",
    "        state = next_state\n",
    "        total_rewards += reward\n",
    "        \n",
    "        if done:\n",
    "            break\n",
    "    \n",
    "    print(f\"Episode: {episode}, Total Reward: {total_rewards}, Exploration Rate: {agent.exploration_rate}\")\n"
   ]
  },
  {
   "cell_type": "code",
   "execution_count": null,
   "id": "be24102d",
   "metadata": {},
   "outputs": [],
   "source": []
  }
 ],
 "metadata": {
  "kernelspec": {
   "display_name": "Python 3 (ipykernel)",
   "language": "python",
   "name": "python3"
  },
  "language_info": {
   "codemirror_mode": {
    "name": "ipython",
    "version": 3
   },
   "file_extension": ".py",
   "mimetype": "text/x-python",
   "name": "python",
   "nbconvert_exporter": "python",
   "pygments_lexer": "ipython3",
   "version": "3.9.13"
  }
 },
 "nbformat": 4,
 "nbformat_minor": 5
}
